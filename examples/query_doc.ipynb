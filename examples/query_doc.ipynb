{
 "cells": [
  {
   "cell_type": "code",
   "execution_count": 1,
   "metadata": {},
   "outputs": [
    {
     "name": "stdout",
     "output_type": "stream",
     "text": [
      "[2023-06-07 21:56:59,499] {utils.py:148} INFO - Note: NumExpr detected 16 cores but \"NUMEXPR_MAX_THREADS\" not set, so enforcing safe limit of 8.\n",
      "[2023-06-07 21:56:59,500] {utils.py:160} INFO - NumExpr defaulting to 8 threads.\n",
      "gptj_model_load: loading model from '/mnt/c/Users/jeanb/models/ggml-gpt4all-j-v1.3-groovy.bin' - please wait ...\n",
      "gptj_model_load: n_vocab = 50400\n",
      "gptj_model_load: n_ctx   = 2048\n",
      "gptj_model_load: n_embd  = 4096\n",
      "gptj_model_load: n_head  = 16\n",
      "gptj_model_load: n_layer = 28\n",
      "gptj_model_load: n_rot   = 64\n",
      "gptj_model_load: f16     = 2\n",
      "gptj_model_load: ggml ctx size = 4505.45 MB\n",
      "gptj_model_load: memory_size =   896.00 MB, n_mem = 57344\n",
      "gptj_model_load: ................................... done\n",
      "gptj_model_load: model size =  3609.38 MB / num tensors = 285\n"
     ]
    }
   ],
   "source": [
    "from jilm.doc_query import DocQuery\n",
    "from jilm.text_splitter import TextSplitter\n",
    "from jilm.document_loader import DocumentLoader"
   ]
  },
  {
   "cell_type": "code",
   "execution_count": 2,
   "metadata": {},
   "outputs": [
    {
     "name": "stdout",
     "output_type": "stream",
     "text": [
      "[2023-06-07 21:57:08,397] {xml.py:96} INFO - Reading document from string ...\n",
      "[2023-06-07 21:57:08,399] {html.py:99} INFO - Reading document ...\n",
      "Loaded 1 documents\n",
      "Split into 3 chunks of text (max. 1000 characters each)\n"
     ]
    }
   ],
   "source": [
    "splitter = TextSplitter(chunk_size=1000, chunk_overlap=100)\n",
    "doc = DocumentLoader.load_single_document(\"../README.md\")\n",
    "docs = splitter.split([doc])"
   ]
  },
  {
   "cell_type": "code",
   "execution_count": 3,
   "metadata": {},
   "outputs": [],
   "source": [
    "from jilm.model import build_model\n",
    "from langchain.callbacks.streaming_stdout import StreamingStdOutCallbackHandler\n",
    "\n",
    "llm = build_model(n_predict=1000, seed=42, callbacks=[StreamingStdOutCallbackHandler()])"
   ]
  },
  {
   "cell_type": "code",
   "execution_count": 4,
   "metadata": {},
   "outputs": [
    {
     "name": "stderr",
     "output_type": "stream",
     "text": [
      "/home/jbp/miniconda3/envs/jilm/lib/python3.10/site-packages/tqdm/auto.py:21: TqdmWarning: IProgress not found. Please update jupyter and ipywidgets. See https://ipywidgets.readthedocs.io/en/stable/user_install.html\n",
      "  from .autonotebook import tqdm as notebook_tqdm\n"
     ]
    },
    {
     "name": "stdout",
     "output_type": "stream",
     "text": [
      "[2023-06-07 21:57:13,034] {SentenceTransformer.py:66} INFO - Load pretrained SentenceTransformer: all-mpnet-base-v2\n",
      "[2023-06-07 21:57:14,682] {SentenceTransformer.py:105} INFO - Use pytorch device: cuda\n",
      "[2023-06-07 21:57:14,694] {ctypes.py:22} INFO - Successfully imported ClickHouse Connect C data optimizations\n",
      "[2023-06-07 21:57:14,695] {ctypes.py:31} INFO - Successfully import ClickHouse Connect C/Numpy optimizations\n",
      "[2023-06-07 21:57:14,699] {json_impl.py:45} INFO - Using python library for writing JSON byte strings\n",
      "[2023-06-07 21:57:14,760] {duckdb.py:470} INFO - loaded in 235 embeddings\n",
      "[2023-06-07 21:57:14,762] {duckdb.py:482} INFO - loaded in 1 collections\n",
      "[2023-06-07 21:57:14,764] {duckdb.py:93} INFO - collection with name langchain already exists, returning existing collection\n"
     ]
    },
    {
     "name": "stderr",
     "output_type": "stream",
     "text": [
      "Batches: 100%|██████████| 1/1 [00:01<00:00,  1.12s/it]"
     ]
    },
    {
     "name": "stdout",
     "output_type": "stream",
     "text": [
      "[2023-06-07 21:57:18,627] {duckdb.py:424} INFO - Persisting DB to disk, putting it in the save folder: tmp/vector-db\n"
     ]
    },
    {
     "name": "stderr",
     "output_type": "stream",
     "text": [
      "\n",
      "Batches: 100%|██████████| 1/1 [00:00<00:00, 14.23it/s]\n"
     ]
    },
    {
     "name": "stdout",
     "output_type": "stream",
     "text": [
      "gptj_generate: seed = 42\n",
      "Usegptj_generate: number of tokens in prompt = 432\n",
      "\n",
      " the following pieces of context to answer the question at the end. If you don't know the answer, just say that you don't know, don't try to make up an answer.\n",
      "\n",
      "JILM_LLM_MODEL_PATH=\"/path/to/ggml-gpt4all-j-v1.3-groovy.bin\"\n",
      "\n",
      "To install from the github repo\n",
      "\n",
      "bash\n",
      "git clone https://github.com/jpoullet2000/jilm.git\n",
      "pip install poetry\n",
      "poetry install\n",
      "\n",
      "Get started\n",
      "\n",
      "Start using JILM\n",
      "\n",
      "JILM_LLM_MODEL_PATH=\"/path/to/ggml-gpt4all-j-v1.3-groovy.bin\"\n",
      "\n",
      "To install from the github repo\n",
      "\n",
      "bash\n",
      "git clone https://github.com/jpoullet2000/jilm.git\n",
      "pip install poetry\n",
      "poetry install\n",
      "\n",
      "Get started\n",
      "\n",
      "Start using JILM\n",
      "\n",
      "JILM_LLM_MODEL_PATH=\"/path/to/ggml-gpt4all-j-v1.3-groovy.bin\"\n",
      "\n",
      "To install from the github repo\n",
      "\n",
      "bash\n",
      "git clone https://github.com/jpoullet2000/jilm.git\n",
      "pip install poetry\n",
      "poetry install\n",
      "\n",
      "Get started\n",
      "\n",
      "Start using JILM\n",
      "\n",
      "JILM_LLM_MODEL_PATH=\"/path/to/ggml-gpt4all-j-v1.3-groovy.bin\"\n",
      "\n",
      "To install from the github repo\n",
      "\n",
      "bash\n",
      "git clone https://github.com/jpoullet2000/jilm.git\n",
      "pip install poetry\n",
      "poetry install\n",
      "\n",
      "Get started\n",
      "\n",
      "Start using JILM\n",
      "\n",
      "Question: How can I install the package jilm?\n",
      "Helpful Answer: You can install the package ji<|endoftext|>\n",
      "\n",
      "gptj_generate: mem per token = 15478000 bytes\n",
      "gptj_generate:     load time =     0.00 ms\n",
      "gptj_generate:   sample time =     3.06 ms\n",
      "gptj_generate:  predict time = 75174.85 ms / 171.24 ms per token\n",
      "gptj_generate:    total time = 76034.96 ms\n"
     ]
    }
   ],
   "source": [
    "res = DocQuery(\"How can I install the package jilm?\", docs=docs, llm=llm)\n",
    "answer, docs = res.run()"
   ]
  },
  {
   "cell_type": "code",
   "execution_count": 6,
   "metadata": {},
   "outputs": [
    {
     "data": {
      "text/plain": [
       "'You can install the package ji'"
      ]
     },
     "execution_count": 6,
     "metadata": {},
     "output_type": "execute_result"
    }
   ],
   "source": [
    "answer.split('Helpful Answer: ')[1].split('<|endoftext|>')[0].strip().replace('\\n', '')"
   ]
  },
  {
   "cell_type": "code",
   "execution_count": 7,
   "metadata": {},
   "outputs": [
    {
     "data": {
      "text/plain": [
       "'Use the following pieces of context to answer the question at the end. If you don\\'t know the answer, just say that you don\\'t know, don\\'t try to make up an answer.\\n\\nJILM_LLM_MODEL_PATH=\"/path/to/ggml-gpt4all-j-v1.3-groovy.bin\"\\n\\nTo install from the github repo\\n\\nbash\\ngit clone https://github.com/jpoullet2000/jilm.git\\npip install poetry\\npoetry install\\n\\nGet started\\n\\nStart using JILM\\n\\nJILM_LLM_MODEL_PATH=\"/path/to/ggml-gpt4all-j-v1.3-groovy.bin\"\\n\\nTo install from the github repo\\n\\nbash\\ngit clone https://github.com/jpoullet2000/jilm.git\\npip install poetry\\npoetry install\\n\\nGet started\\n\\nStart using JILM\\n\\nJILM_LLM_MODEL_PATH=\"/path/to/ggml-gpt4all-j-v1.3-groovy.bin\"\\n\\nTo install from the github repo\\n\\nbash\\ngit clone https://github.com/jpoullet2000/jilm.git\\npip install poetry\\npoetry install\\n\\nGet started\\n\\nStart using JILM\\n\\nJILM_LLM_MODEL_PATH=\"/path/to/ggml-gpt4all-j-v1.3-groovy.bin\"\\n\\nTo install from the github repo\\n\\nbash\\ngit clone https://github.com/jpoullet2000/jilm.git\\npip install poetry\\npoetry install\\n\\nGet started\\n\\nStart using JILM\\n\\nQuestion: How can I install the package jilm?\\nHelpful Answer: You can install the package ji<|endoftext|>'"
      ]
     },
     "execution_count": 7,
     "metadata": {},
     "output_type": "execute_result"
    }
   ],
   "source": [
    "answer "
   ]
  },
  {
   "cell_type": "code",
   "execution_count": 9,
   "metadata": {},
   "outputs": [
    {
     "name": "stdout",
     "output_type": "stream",
     "text": [
      "[2023-06-07 21:34:10,073] {SentenceTransformer.py:66} INFO - Load pretrained SentenceTransformer: all-mpnet-base-v2\n",
      "[2023-06-07 21:34:13,960] {SentenceTransformer.py:105} INFO - Use pytorch device: cuda\n",
      "[2023-06-07 21:34:14,079] {duckdb.py:470} INFO - loaded in 169 embeddings\n",
      "[2023-06-07 21:34:14,082] {duckdb.py:482} INFO - loaded in 1 collections\n",
      "[2023-06-07 21:34:14,083] {duckdb.py:93} INFO - collection with name langchain already exists, returning existing collection\n"
     ]
    },
    {
     "name": "stderr",
     "output_type": "stream",
     "text": [
      "Batches: 100%|██████████| 2/2 [00:00<00:00,  5.56it/s]"
     ]
    },
    {
     "name": "stdout",
     "output_type": "stream",
     "text": [
      "[2023-06-07 21:34:14,722] {duckdb.py:424} INFO - Persisting DB to disk, putting it in the save folder: tmp/vector-db\n"
     ]
    },
    {
     "name": "stderr",
     "output_type": "stream",
     "text": [
      "\n",
      "Batches: 100%|██████████| 1/1 [00:00<00:00, 27.69it/s]\n"
     ]
    },
    {
     "name": "stdout",
     "output_type": "stream",
     "text": [
      "gptj_generate: seed = 0\n",
      "Usegptj_generate: number of tokens in prompt = 431\n",
      "\n",
      " the following pieces of context to answer the question at the end. If you don't know the answer, just say that you don't know, don't try to make up an answer.\n",
      "\n",
      "JILM_LLM_MODEL_PATH=\"/path/to/ggml-gpt4all-j-v1.3-groovy.bin\"\n",
      "\n",
      "To install from the github repo\n",
      "\n",
      "bash\n",
      "git clone https://github.com/jpoullet2000/jilm.git\n",
      "pip install poetry\n",
      "poetry install\n",
      "\n",
      "Get started\n",
      "\n",
      "Start using JILM\n",
      "\n",
      "JILM_LLM_MODEL_PATH=\"/path/to/ggml-gpt4all-j-v1.3-groovy.bin\"\n",
      "\n",
      "To install from the github repo\n",
      "\n",
      "bash\n",
      "git clone https://github.com/jpoullet2000/jilm.git\n",
      "pip install poetry\n",
      "poetry install\n",
      "\n",
      "Get started\n",
      "\n",
      "Start using JILM\n",
      "\n",
      "JILM_LLM_MODEL_PATH=\"/path/to/ggml-gpt4all-j-v1.3-groovy.bin\"\n",
      "\n",
      "To install from the github repo\n",
      "\n",
      "bash\n",
      "git clone https://github.com/jpoullet2000/jilm.git\n",
      "pip install poetry\n",
      "poetry install\n",
      "\n",
      "Get started\n",
      "\n",
      "Start using JILM\n",
      "\n",
      "JILM_LLM_MODEL_PATH=\"/path/to/ggml-gpt4all-j-v1.3-groovy.bin\"\n",
      "\n",
      "To install from the github repo\n",
      "\n",
      "bash\n",
      "git clone https://github.com/jpoullet2000/jilm.git\n",
      "pip install poetry\n",
      "poetry install\n",
      "\n",
      "Get started\n",
      "\n",
      "Start using JILM\n",
      "\n",
      "Question: How to install the package jilm?\n",
      "Helpful Answer: To install the package ji<|endoftext|>\n",
      "\n",
      "gptj_generate: mem per token = 15478000 bytes\n",
      "gptj_generate:     load time =     0.00 ms\n",
      "gptj_generate:   sample time =     1.63 ms\n",
      "gptj_generate:  predict time = 76690.99 ms / 175.49 ms per token\n",
      "gptj_generate:    total time = 77734.11 ms\n"
     ]
    }
   ],
   "source": [
    "res = DocQuery(\"How to install the package jilm?\", docs=docs)\n",
    "answer, docs = res.run()"
   ]
  },
  {
   "cell_type": "code",
   "execution_count": 12,
   "metadata": {},
   "outputs": [
    {
     "name": "stdout",
     "output_type": "stream",
     "text": [
      "('Use the following pieces of context to answer the question at the end. If '\n",
      " \"you don't know the answer, just say that you don't know, don't try to make \"\n",
      " 'up an answer.\\n'\n",
      " '\\n'\n",
      " 'JILM_LLM_MODEL_PATH=\"/path/to/ggml-gpt4all-j-v1.3-groovy.bin\"\\n'\n",
      " '\\n'\n",
      " 'To install from the github repo\\n'\n",
      " '\\n'\n",
      " 'bash\\n'\n",
      " 'git clone https://github.com/jpoullet2000/jilm.git\\n'\n",
      " 'pip install poetry\\n'\n",
      " 'poetry install\\n'\n",
      " '\\n'\n",
      " 'Get started\\n'\n",
      " '\\n'\n",
      " 'Start using JILM\\n'\n",
      " '\\n'\n",
      " 'JILM_LLM_MODEL_PATH=\"/path/to/ggml-gpt4all-j-v1.3-groovy.bin\"\\n'\n",
      " '\\n'\n",
      " 'To install from the github repo\\n'\n",
      " '\\n'\n",
      " 'bash\\n'\n",
      " 'git clone https://github.com/jpoullet2000/jilm.git\\n'\n",
      " 'pip install poetry\\n'\n",
      " 'poetry install\\n'\n",
      " '\\n'\n",
      " 'Get started\\n'\n",
      " '\\n'\n",
      " 'Start using JILM\\n'\n",
      " '\\n'\n",
      " 'JILM_LLM_MODEL_PATH=\"/path/to/ggml-gpt4all-j-v1.3-groovy.bin\"\\n'\n",
      " '\\n'\n",
      " 'To install from the github repo\\n'\n",
      " '\\n'\n",
      " 'bash\\n'\n",
      " 'git clone https://github.com/jpoullet2000/jilm.git\\n'\n",
      " 'pip install poetry\\n'\n",
      " 'poetry install\\n'\n",
      " '\\n'\n",
      " 'Get started\\n'\n",
      " '\\n'\n",
      " 'Start using JILM\\n'\n",
      " '\\n'\n",
      " 'JILM_LLM_MODEL_PATH=\"/path/to/ggml-gpt4all-j-v1.3-groovy.bin\"\\n'\n",
      " '\\n'\n",
      " 'To install from the github repo\\n'\n",
      " '\\n'\n",
      " 'bash\\n'\n",
      " 'git clone https://github.com/jpoullet2000/jilm.git\\n'\n",
      " 'pip install poetry\\n'\n",
      " 'poetry install\\n'\n",
      " '\\n'\n",
      " 'Get started\\n'\n",
      " '\\n'\n",
      " 'Start using JILM\\n'\n",
      " '\\n'\n",
      " 'Question: How to install the package jilm?\\n'\n",
      " 'Helpful Answer: To install the package ji<|endoftext|>')\n"
     ]
    }
   ],
   "source": [
    "from pprint import pprint\n",
    "pprint(answer)"
   ]
  },
  {
   "cell_type": "code",
   "execution_count": 13,
   "metadata": {},
   "outputs": [
    {
     "data": {
      "text/plain": [
       "'To install the package ji'"
      ]
     },
     "execution_count": 13,
     "metadata": {},
     "output_type": "execute_result"
    }
   ],
   "source": [
    "answer.split('Helpful Answer: ')[1].split('<|endoftext|>')[0].strip().replace('\\n', '')"
   ]
  },
  {
   "cell_type": "code",
   "execution_count": 5,
   "metadata": {},
   "outputs": [
    {
     "data": {
      "text/plain": [
       "[Document(page_content='JILM_LLM_MODEL_PATH=\"/path/to/ggml-gpt4all-j-v1.3-groovy.bin\"\\n\\nTo install from the github repo\\n\\nbash\\ngit clone https://github.com/jpoullet2000/jilm.git\\npip install poetry\\npoetry install\\n\\nGet started\\n\\nStart using JILM', metadata={'source': '../README.md'}),\n",
       " Document(page_content='JILM_LLM_MODEL_PATH=\"/path/to/ggml-gpt4all-j-v1.3-groovy.bin\"\\n\\nTo install from the github repo\\n\\nbash\\ngit clone https://github.com/jpoullet2000/jilm.git\\npip install poetry\\npoetry install\\n\\nGet started\\n\\nStart using JILM', metadata={'source': '../README.md'}),\n",
       " Document(page_content='JILM_LLM_MODEL_PATH=\"/path/to/ggml-gpt4all-j-v1.3-groovy.bin\"\\n\\nTo install from the github repo\\n\\nbash\\ngit clone https://github.com/jpoullet2000/jilm.git\\npip install poetry\\npoetry install\\n\\nGet started\\n\\nStart using JILM', metadata={'source': '../README.md'}),\n",
       " Document(page_content='JILM_LLM_MODEL_PATH=\"/path/to/ggml-gpt4all-j-v1.3-groovy.bin\"\\n\\nTo install from the github repo\\n\\nbash\\ngit clone https://github.com/jpoullet2000/jilm.git\\npip install poetry\\npoetry install\\n\\nGet started\\n\\nStart using JILM', metadata={'source': '../README.md'})]"
      ]
     },
     "execution_count": 5,
     "metadata": {},
     "output_type": "execute_result"
    }
   ],
   "source": [
    "docs"
   ]
  },
  {
   "cell_type": "code",
   "execution_count": null,
   "metadata": {},
   "outputs": [],
   "source": []
  }
 ],
 "metadata": {
  "kernelspec": {
   "display_name": "jilm2",
   "language": "python",
   "name": "python3"
  },
  "language_info": {
   "codemirror_mode": {
    "name": "ipython",
    "version": 3
   },
   "file_extension": ".py",
   "mimetype": "text/x-python",
   "name": "python",
   "nbconvert_exporter": "python",
   "pygments_lexer": "ipython3",
   "version": "3.10.11"
  },
  "orig_nbformat": 4
 },
 "nbformat": 4,
 "nbformat_minor": 2
}
