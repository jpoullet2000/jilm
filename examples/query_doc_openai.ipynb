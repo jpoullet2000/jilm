{
 "cells": [
  {
   "cell_type": "code",
   "execution_count": 1,
   "metadata": {},
   "outputs": [
    {
     "name": "stdout",
     "output_type": "stream",
     "text": [
      "[2023-06-02 22:29:21,119] {utils.py:148} INFO - Note: NumExpr detected 16 cores but \"NUMEXPR_MAX_THREADS\" not set, so enforcing safe limit of 8.\n",
      "[2023-06-02 22:29:21,120] {utils.py:160} INFO - NumExpr defaulting to 8 threads.\n",
      "[2023-06-02 22:29:23,280] {SentenceTransformer.py:66} INFO - Load pretrained SentenceTransformer: all-mpnet-base-v2\n"
     ]
    },
    {
     "name": "stderr",
     "output_type": "stream",
     "text": [
      "/home/jbp/miniconda3/envs/jilm2/lib/python3.10/site-packages/tqdm/auto.py:21: TqdmWarning: IProgress not found. Please update jupyter and ipywidgets. See https://ipywidgets.readthedocs.io/en/stable/user_install.html\n",
      "  from .autonotebook import tqdm as notebook_tqdm\n"
     ]
    },
    {
     "name": "stdout",
     "output_type": "stream",
     "text": [
      "[2023-06-02 22:29:24,188] {SentenceTransformer.py:105} INFO - Use pytorch device: cuda\n"
     ]
    }
   ],
   "source": [
    "from jilm.doc_query import DocQuery\n",
    "from jilm.text_splitter import TextSplitter\n",
    "from jilm.document_loader import DocumentLoader"
   ]
  },
  {
   "cell_type": "code",
   "execution_count": 2,
   "metadata": {},
   "outputs": [
    {
     "name": "stdout",
     "output_type": "stream",
     "text": [
      "[2023-06-02 22:29:24,567] {xml.py:96} INFO - Reading document from string ...\n",
      "[2023-06-02 22:29:24,568] {html.py:99} INFO - Reading document ...\n",
      "Loaded 1 documents\n",
      "Split into 8 chunks of text (max. 400 characters each)\n"
     ]
    }
   ],
   "source": [
    "splitter = TextSplitter(chunk_size=400, chunk_overlap=100)\n",
    "doc = DocumentLoader.load_single_document(\"../README.md\")\n",
    "docs = splitter.split([doc])"
   ]
  },
  {
   "cell_type": "code",
   "execution_count": 3,
   "metadata": {},
   "outputs": [
    {
     "name": "stdout",
     "output_type": "stream",
     "text": [
      "[2023-06-02 22:29:24,804] {ctypes.py:22} INFO - Successfully imported ClickHouse Connect C data optimizations\n",
      "[2023-06-02 22:29:24,805] {ctypes.py:31} INFO - Successfully import ClickHouse Connect C/Numpy optimizations\n",
      "[2023-06-02 22:29:24,809] {json_impl.py:45} INFO - Using python library for writing JSON byte strings\n",
      "[2023-06-02 22:29:24,865] {duckdb.py:470} INFO - loaded in 145 embeddings\n",
      "[2023-06-02 22:29:24,868] {duckdb.py:482} INFO - loaded in 1 collections\n",
      "[2023-06-02 22:29:24,870] {duckdb.py:93} INFO - collection with name langchain already exists, returning existing collection\n"
     ]
    },
    {
     "name": "stderr",
     "output_type": "stream",
     "text": [
      "Batches: 100%|██████████| 1/1 [00:01<00:00,  1.17s/it]"
     ]
    },
    {
     "name": "stdout",
     "output_type": "stream",
     "text": [
      "[2023-06-02 22:29:28,974] {duckdb.py:424} INFO - Persisting DB to disk, putting it in the save folder: tmp/vector-db\n"
     ]
    },
    {
     "name": "stderr",
     "output_type": "stream",
     "text": [
      "\n",
      "Batches: 100%|██████████| 1/1 [00:00<00:00, 13.98it/s]\n"
     ]
    },
    {
     "name": "stdout",
     "output_type": "stream",
     "text": [
      "[2023-06-02 22:29:29,440] {util.py:67} INFO - error_code=None error_message='You exceeded your current quota, please check your plan and billing details.' error_param=None error_type=insufficient_quota message='OpenAI API error received' stream_error=False\n",
      "[2023-06-02 22:29:29,442] {before_sleep.py:65} WARNING - Retrying langchain.llms.openai.completion_with_retry.<locals>._completion_with_retry in 4.0 seconds as it raised RateLimitError: You exceeded your current quota, please check your plan and billing details..\n",
      "[2023-06-02 22:29:33,592] {util.py:67} INFO - error_code=None error_message='You exceeded your current quota, please check your plan and billing details.' error_param=None error_type=insufficient_quota message='OpenAI API error received' stream_error=False\n",
      "[2023-06-02 22:29:33,593] {before_sleep.py:65} WARNING - Retrying langchain.llms.openai.completion_with_retry.<locals>._completion_with_retry in 4.0 seconds as it raised RateLimitError: You exceeded your current quota, please check your plan and billing details..\n",
      "[2023-06-02 22:29:37,795] {util.py:67} INFO - error_code=None error_message='You exceeded your current quota, please check your plan and billing details.' error_param=None error_type=insufficient_quota message='OpenAI API error received' stream_error=False\n",
      "[2023-06-02 22:29:37,795] {before_sleep.py:65} WARNING - Retrying langchain.llms.openai.completion_with_retry.<locals>._completion_with_retry in 4.0 seconds as it raised RateLimitError: You exceeded your current quota, please check your plan and billing details..\n",
      "[2023-06-02 22:29:41,966] {util.py:67} INFO - error_code=None error_message='You exceeded your current quota, please check your plan and billing details.' error_param=None error_type=insufficient_quota message='OpenAI API error received' stream_error=False\n",
      "[2023-06-02 22:29:41,967] {before_sleep.py:65} WARNING - Retrying langchain.llms.openai.completion_with_retry.<locals>._completion_with_retry in 8.0 seconds as it raised RateLimitError: You exceeded your current quota, please check your plan and billing details..\n",
      "[2023-06-02 22:29:50,141] {util.py:67} INFO - error_code=None error_message='You exceeded your current quota, please check your plan and billing details.' error_param=None error_type=insufficient_quota message='OpenAI API error received' stream_error=False\n",
      "[2023-06-02 22:29:50,142] {before_sleep.py:65} WARNING - Retrying langchain.llms.openai.completion_with_retry.<locals>._completion_with_retry in 10.0 seconds as it raised RateLimitError: You exceeded your current quota, please check your plan and billing details..\n"
     ]
    }
   ],
   "source": [
    "res = DocQuery(\"How to install the package jilm?\", docs=docs)\n",
    "answer, docs = res.run()"
   ]
  },
  {
   "cell_type": "code",
   "execution_count": null,
   "metadata": {},
   "outputs": [],
   "source": []
  }
 ],
 "metadata": {
  "kernelspec": {
   "display_name": "jilm2",
   "language": "python",
   "name": "python3"
  },
  "language_info": {
   "codemirror_mode": {
    "name": "ipython",
    "version": 3
   },
   "file_extension": ".py",
   "mimetype": "text/x-python",
   "name": "python",
   "nbconvert_exporter": "python",
   "pygments_lexer": "ipython3",
   "version": "3.10.11"
  },
  "orig_nbformat": 4
 },
 "nbformat": 4,
 "nbformat_minor": 2
}
